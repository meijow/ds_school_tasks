{
 "cells": [
  {
   "cell_type": "markdown",
   "metadata": {
    "pycharm": {
     "name": "#%% md\n"
    }
   },
   "source": [
    "[![Open In Colab](https://colab.research.google.com/assets/colab-badge.svg)](https://colab.research.google.com/github/ds-reboot/python-first-part/blob/main/notebooks/hometasks/Task3_dmrf_OOP.ipynb)"
   ]
  },
  {
   "cell_type": "markdown",
   "metadata": {
    "pycharm": {
     "name": "#%% md\n"
    }
   },
   "source": [
    "# Задание\n",
    "Реализовать с помощью объектно-ориентированного подхода предыдущие 2 задания. Создайте для каждой из задач отдельный класс, который позволяет ее решить.\n",
    "\n",
    "* Собрать информацию о всех строящихся объектах на сайте \"наш.дом.рф\"\n",
    "* Cохранить ее в pandas dataframe, а также в excel, pickle, БД\n",
    "\n",
    "* Проверить состояние датафрейма и привести его в формат, позволяющий дальнейшее исследование данных\n",
    "\n",
    "*  Сделать визуализацию для мини-исследования рынка строящейся недвижимости в одном или нескольких регионах с помощью pandas, matplotlib, seaborn, plotly и других инструментов.\n",
    "\n"
   ]
  },
  {
   "cell_type": "code",
   "execution_count": 83,
   "metadata": {
    "pycharm": {
     "name": "#%%\n"
    }
   },
   "outputs": [],
   "source": [
    "import requests\n",
    "from tqdm.auto import tqdm\n",
    "import pandas as pd\n",
    "from sqlalchemy import create_engine\n",
    "import matplotlib.pyplot as plt\n",
    "import seaborn as sns"
   ]
  },
  {
   "cell_type": "code",
   "execution_count": 84,
   "metadata": {
    "pycharm": {
     "name": "#%%\n"
    }
   },
   "outputs": [],
   "source": [
    "class DomIdLoader:\n",
    "    def __init__(self):\n",
    "        self.offset_ = 1\n",
    "        self.limit_ = 1000\n",
    "        self.url = f'https://xn--80az8a.xn--d1aqf.xn--p1ai/%D1%81%D0%B5%D1%80%D0%B2%D0%B8%D1%81%D1%8B/api/kn/object'\n",
    "        self.obj_ids = []\n",
    "\n",
    "    def get_ids(self):\n",
    "        while True:\n",
    "            paramz = {\n",
    "                'offset': self.offset_,\n",
    "                'limit': self.limit_,\n",
    "                'sortField':'devId.devShortCleanNm',\n",
    "                'sortType':'asc',\n",
    "                'objStatus':'0',\n",
    "            }\n",
    "            res = requests.get(self.url, params=paramz).json()\n",
    "            objects_list = res.get('data').get('list')\n",
    "            \n",
    "            print(self.offset_, self.limit_, len(self.obj_ids), len(objects_list))\n",
    "            \n",
    "            self.obj_ids = self.obj_ids + [x.get('objId') for x in objects_list]\n",
    "            if len(objects_list) < self.limit_:\n",
    "                break\n",
    "            self.offset_ += self.limit_\n",
    "               \n",
    "        return self.obj_ids\n",
    "\n",
    "    def show_ids(self):\n",
    "        print(self.obj_ids)"
   ]
  },
  {
   "cell_type": "code",
   "execution_count": 85,
   "metadata": {},
   "outputs": [
    {
     "name": "stdout",
     "output_type": "stream",
     "text": [
      "1 1000 0 1000\n",
      "1001 1000 1000 1000\n",
      "2001 1000 2000 1000\n",
      "3001 1000 3000 1000\n",
      "4001 1000 4000 1000\n",
      "5001 1000 5000 1000\n",
      "6001 1000 6000 1000\n",
      "7001 1000 7000 1000\n",
      "8001 1000 8000 1000\n",
      "9001 1000 9000 1000\n",
      "10001 1000 10000 310\n"
     ]
    },
    {
     "data": {
      "text/plain": [
       "10310"
      ]
     },
     "execution_count": 85,
     "metadata": {},
     "output_type": "execute_result"
    }
   ],
   "source": [
    "id_loader = DomIdLoader()\n",
    "ids = id_loader.get_ids()\n",
    "len(ids)"
   ]
  },
  {
   "cell_type": "code",
   "execution_count": 86,
   "metadata": {
    "pycharm": {
     "name": "#%%\n"
    }
   },
   "outputs": [],
   "source": [
    "class ObjectInfoExtractor:\n",
    "    def __init__(self, ids):\n",
    "        self.ids = ids\n",
    "        self.url = 'https://xn--80az8a.xn--d1aqf.xn--p1ai/%D1%81%D0%B5%D1%80%D0%B2%D0%B8%D1%81%D1%8B/api/object/'\n",
    "        self.data = []\n",
    "        \n",
    "    def get_object(self, idx):\n",
    "        url = self.url + f'{idx}'\n",
    "        res = requests.get(url).json().get('data')\n",
    "        return res\n",
    "    \n",
    "    def load_data(self):\n",
    "        for idx in tqdm(self.ids):\n",
    "            self.data = self.data + [self.get_object(idx)]\n",
    "        return self.data\n",
    "\n",
    "    def df_converter(self):\n",
    "        df = pd.json_normalize(self.data)\n",
    "        return df"
   ]
  },
  {
   "cell_type": "code",
   "execution_count": 87,
   "metadata": {},
   "outputs": [
    {
     "data": {
      "application/vnd.jupyter.widget-view+json": {
       "model_id": "dadae7e46a6c4b659098d858ee5c74d9",
       "version_major": 2,
       "version_minor": 0
      },
      "text/plain": [
       "  0%|          | 0/10310 [00:00<?, ?it/s]"
      ]
     },
     "metadata": {},
     "output_type": "display_data"
    }
   ],
   "source": [
    "oie = ObjectInfoExtractor(ids)\n",
    "data = oie.load_data()"
   ]
  },
  {
   "cell_type": "code",
   "execution_count": 88,
   "metadata": {},
   "outputs": [],
   "source": [
    "df = oie.df_converter()"
   ]
  },
  {
   "cell_type": "code",
   "execution_count": 89,
   "metadata": {},
   "outputs": [
    {
     "data": {
      "text/html": [
       "<div>\n",
       "<style scoped>\n",
       "    .dataframe tbody tr th:only-of-type {\n",
       "        vertical-align: middle;\n",
       "    }\n",
       "\n",
       "    .dataframe tbody tr th {\n",
       "        vertical-align: top;\n",
       "    }\n",
       "\n",
       "    .dataframe thead th {\n",
       "        text-align: right;\n",
       "    }\n",
       "</style>\n",
       "<table border=\"1\" class=\"dataframe\">\n",
       "  <thead>\n",
       "    <tr style=\"text-align: right;\">\n",
       "      <th></th>\n",
       "      <th>id</th>\n",
       "      <th>hobjId</th>\n",
       "      <th>pdId</th>\n",
       "      <th>region</th>\n",
       "      <th>address</th>\n",
       "      <th>floorMin</th>\n",
       "      <th>floorMax</th>\n",
       "      <th>objElemLivingCnt</th>\n",
       "      <th>objReady100PercDt</th>\n",
       "      <th>wallMaterialShortDesc</th>\n",
       "      <th>...</th>\n",
       "      <th>metro.time</th>\n",
       "      <th>metro.isWalk</th>\n",
       "      <th>metro.colors</th>\n",
       "      <th>airQualityIndexValue</th>\n",
       "      <th>developer.bankruptStage.bankruptStageCd</th>\n",
       "      <th>developer.bankruptStage.bankruptStageDesc</th>\n",
       "      <th>developer.bankruptStage.bankruptLawUrl</th>\n",
       "      <th>developer.orgBankruptMsgDttm</th>\n",
       "      <th>complexShortNm</th>\n",
       "      <th>greenAreaIndexValue</th>\n",
       "    </tr>\n",
       "  </thead>\n",
       "  <tbody>\n",
       "    <tr>\n",
       "      <th>0</th>\n",
       "      <td>13383</td>\n",
       "      <td>39024</td>\n",
       "      <td>28105</td>\n",
       "      <td>72</td>\n",
       "      <td>г Тюмень</td>\n",
       "      <td>4</td>\n",
       "      <td>20</td>\n",
       "      <td>68</td>\n",
       "      <td>2023-03-31</td>\n",
       "      <td>Другое</td>\n",
       "      <td>...</td>\n",
       "      <td>NaN</td>\n",
       "      <td>NaN</td>\n",
       "      <td>NaN</td>\n",
       "      <td>NaN</td>\n",
       "      <td>NaN</td>\n",
       "      <td>NaN</td>\n",
       "      <td>NaN</td>\n",
       "      <td>NaN</td>\n",
       "      <td>NaN</td>\n",
       "      <td>NaN</td>\n",
       "    </tr>\n",
       "    <tr>\n",
       "      <th>1</th>\n",
       "      <td>13398</td>\n",
       "      <td>37165</td>\n",
       "      <td>28141</td>\n",
       "      <td>72</td>\n",
       "      <td>г Тюмень, ул Профсоюзная, д. 56</td>\n",
       "      <td>7</td>\n",
       "      <td>10</td>\n",
       "      <td>43</td>\n",
       "      <td>2024-12-31</td>\n",
       "      <td>Другое</td>\n",
       "      <td>...</td>\n",
       "      <td>NaN</td>\n",
       "      <td>NaN</td>\n",
       "      <td>NaN</td>\n",
       "      <td>NaN</td>\n",
       "      <td>NaN</td>\n",
       "      <td>NaN</td>\n",
       "      <td>NaN</td>\n",
       "      <td>NaN</td>\n",
       "      <td>NaN</td>\n",
       "      <td>NaN</td>\n",
       "    </tr>\n",
       "  </tbody>\n",
       "</table>\n",
       "<p>2 rows × 110 columns</p>\n",
       "</div>"
      ],
      "text/plain": [
       "      id  hobjId   pdId  region                          address  floorMin  \\\n",
       "0  13383   39024  28105      72                         г Тюмень         4   \n",
       "1  13398   37165  28141      72  г Тюмень, ул Профсоюзная, д. 56         7   \n",
       "\n",
       "   floorMax  objElemLivingCnt objReady100PercDt wallMaterialShortDesc  ...  \\\n",
       "0        20                68        2023-03-31                Другое  ...   \n",
       "1        10                43        2024-12-31                Другое  ...   \n",
       "\n",
       "  metro.time metro.isWalk  metro.colors  airQualityIndexValue  \\\n",
       "0        NaN          NaN           NaN                   NaN   \n",
       "1        NaN          NaN           NaN                   NaN   \n",
       "\n",
       "  developer.bankruptStage.bankruptStageCd  \\\n",
       "0                                     NaN   \n",
       "1                                     NaN   \n",
       "\n",
       "  developer.bankruptStage.bankruptStageDesc  \\\n",
       "0                                       NaN   \n",
       "1                                       NaN   \n",
       "\n",
       "  developer.bankruptStage.bankruptLawUrl developer.orgBankruptMsgDttm  \\\n",
       "0                                    NaN                          NaN   \n",
       "1                                    NaN                          NaN   \n",
       "\n",
       "  complexShortNm  greenAreaIndexValue  \n",
       "0            NaN                  NaN  \n",
       "1            NaN                  NaN  \n",
       "\n",
       "[2 rows x 110 columns]"
      ]
     },
     "execution_count": 89,
     "metadata": {},
     "output_type": "execute_result"
    }
   ],
   "source": [
    "df.head(2)"
   ]
  },
  {
   "cell_type": "code",
   "execution_count": 90,
   "metadata": {},
   "outputs": [],
   "source": [
    "class Saver:\n",
    "    def __init__(self, data):\n",
    "        self.df = data\n",
    "\n",
    "    def save_csv(self):\n",
    "        self.df.to_csv('data.csv')\n",
    "\n",
    "    def save_xl(self):\n",
    "        self.df.to_excel('data.xlsx')\n",
    "\n",
    "    def save_sql(self):\n",
    "        engine = create_engine('sqlite://', echo=False)\n",
    "        with engine.begin() as connection:\n",
    "            self.df.to_sql('df', con=connection, if_exists='replace', index=False)\n",
    "        return engine"
   ]
  },
  {
   "cell_type": "code",
   "execution_count": 91,
   "metadata": {},
   "outputs": [],
   "source": [
    "saver = Saver(df)\n",
    "saver.save_csv()\n",
    "saver.save_xl()"
   ]
  },
  {
   "cell_type": "code",
   "execution_count": 92,
   "metadata": {
    "pycharm": {
     "name": "#%%\n"
    }
   },
   "outputs": [],
   "source": [
    "class Visualizer:\n",
    "    def __init__(self, data):\n",
    "        self.df = data\n",
    "\n",
    "    def make_boxplot(self):\n",
    "        sns.set(style='darkgrid')\n",
    "        sns.catplot(\n",
    "            x='objLkClassDesc', \n",
    "            y='objPriceAvg', \n",
    "            data=self.df, \n",
    "            kind='box', \n",
    "            height=4, \n",
    "            aspect=2\n",
    "        );"
   ]
  },
  {
   "cell_type": "code",
   "execution_count": 93,
   "metadata": {
    "pycharm": {
     "name": "#%%\n"
    }
   },
   "outputs": [],
   "source": [
    "vis = Visualizer(df)"
   ]
  },
  {
   "cell_type": "code",
   "execution_count": 94,
   "metadata": {},
   "outputs": [],
   "source": [
    "vis.make_boxplot()"
   ]
  }
 ],
 "metadata": {
  "kernelspec": {
   "display_name": "Python 3 (ipykernel)",
   "language": "python",
   "name": "python3"
  },
  "language_info": {
   "codemirror_mode": {
    "name": "ipython",
    "version": 3
   },
   "file_extension": ".py",
   "mimetype": "text/x-python",
   "name": "python",
   "nbconvert_exporter": "python",
   "pygments_lexer": "ipython3",
   "version": "3.9.13"
  }
 },
 "nbformat": 4,
 "nbformat_minor": 1
}
